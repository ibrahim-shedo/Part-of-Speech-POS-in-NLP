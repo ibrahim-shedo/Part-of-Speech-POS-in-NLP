{
 "cells": [
  {
   "cell_type": "markdown",
   "id": "9c289eeb-6979-4084-af01-7674f656e99d",
   "metadata": {},
   "source": [
    "## Part-of-Speech (POS) tagging using the NLTK (Natural Language Toolkit) labeling each word in a sentence with its grammatical category (noun, verb, adjective, etc.).\n",
    "\n"
   ]
  },
  {
   "cell_type": "code",
   "execution_count": 1,
   "id": "e55293a3-90c9-4ded-9b7b-33087990d502",
   "metadata": {},
   "outputs": [
    {
     "name": "stderr",
     "output_type": "stream",
     "text": [
      "[nltk_data] Downloading package averaged_perceptron_tagger to\n",
      "[nltk_data]     C:\\Users\\ibrez\\AppData\\Roaming\\nltk_data...\n",
      "[nltk_data]   Package averaged_perceptron_tagger is already up-to-\n",
      "[nltk_data]       date!\n"
     ]
    },
    {
     "data": {
      "text/plain": [
       "True"
      ]
     },
     "execution_count": 1,
     "metadata": {},
     "output_type": "execute_result"
    }
   ],
   "source": [
    "import nltk\n",
    "nltk.download('averaged_perceptron_tagger')"
   ]
  },
  {
   "cell_type": "code",
   "execution_count": 2,
   "id": "5dab6aba-c227-41b1-bbc7-9bd95184f965",
   "metadata": {},
   "outputs": [],
   "source": [
    "# Example text\n",
    "sentence = \"The quick brown fox jumps over the lazy dog\""
   ]
  },
  {
   "cell_type": "code",
   "execution_count": 3,
   "id": "2af3f582-e184-4c57-b34c-bb9de023cee6",
   "metadata": {},
   "outputs": [],
   "source": [
    "# Tokenize and POS tag\n",
    "words = nltk.word_tokenize(sentence)\n",
    "pos_tags = nltk.pos_tag(words)"
   ]
  },
  {
   "cell_type": "code",
   "execution_count": 4,
   "id": "8d99fb8c-bff2-401c-89a4-f8b650f203e0",
   "metadata": {},
   "outputs": [
    {
     "name": "stdout",
     "output_type": "stream",
     "text": [
      "[('The', 'DT'), ('quick', 'JJ'), ('brown', 'NN'), ('fox', 'NN'), ('jumps', 'VBZ'), ('over', 'IN'), ('the', 'DT'), ('lazy', 'JJ'), ('dog', 'NN')]\n"
     ]
    }
   ],
   "source": [
    "# Display POS tags\n",
    "print(pos_tags)"
   ]
  },
 
}
