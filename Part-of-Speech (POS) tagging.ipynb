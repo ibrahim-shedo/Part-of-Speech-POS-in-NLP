{
 "cells": [
  {
   "cell_type": "markdown",
   "id": "9c289eeb-6979-4084-af01-7674f656e99d",
   "metadata": {},
   "source": [
    "## Part-of-Speech (POS) tagging using the NLTK (Natural Language Toolkit) labeling each word in a sentence with its grammatical category (noun, verb, adjective, etc.).\n",
    "\n"
   ]
  },
  {
   "cell_type": "code",
   "execution_count": 1,
   "id": "e55293a3-90c9-4ded-9b7b-33087990d502",
   "metadata": {},
   "outputs": [
    {
     "name": "stderr",
     "output_type": "stream",
     "text": [
      "[nltk_data] Downloading package averaged_perceptron_tagger to\n",
      "[nltk_data]     C:\\Users\\ibrez\\AppData\\Roaming\\nltk_data...\n",
      "[nltk_data]   Package averaged_perceptron_tagger is already up-to-\n",
      "[nltk_data]       date!\n"
     ]
    },
    {
     "data": {
      "text/plain": [
       "True"
      ]
     },
     "execution_count": 1,
     "metadata": {},
     "output_type": "execute_result"
    }
   ],
   "source": [
    "import nltk\n",
    "nltk.download('averaged_perceptron_tagger')"
   ]
  },
  {
   "cell_type": "code",
   "execution_count": 2,
   "id": "5dab6aba-c227-41b1-bbc7-9bd95184f965",
   "metadata": {},
   "outputs": [],
   "source": [
    "# Example text\n",
    "sentence = \"The quick brown fox jumps over the lazy dog\""
   ]
  },
  {
   "cell_type": "code",
   "execution_count": 3,
   "id": "2af3f582-e184-4c57-b34c-bb9de023cee6",
   "metadata": {},
   "outputs": [],
   "source": [
    "# Tokenize and POS tag\n",
    "words = nltk.word_tokenize(sentence)\n",
    "pos_tags = nltk.pos_tag(words)"
   ]
  },
  {
   "cell_type": "code",
   "execution_count": 4,
   "id": "8d99fb8c-bff2-401c-89a4-f8b650f203e0",
   "metadata": {},
   "outputs": [
    {
     "name": "stdout",
     "output_type": "stream",
     "text": [
      "[('The', 'DT'), ('quick', 'JJ'), ('brown', 'NN'), ('fox', 'NN'), ('jumps', 'VBZ'), ('over', 'IN'), ('the', 'DT'), ('lazy', 'JJ'), ('dog', 'NN')]\n"
     ]
    }
   ],
   "source": [
    "# Display POS tags\n",
    "print(pos_tags)"
   ]
  },
  {
   "cell_type": "markdown",
   "id": "30eb0445-56ba-441f-9242-65c14c571fe0",
   "metadata": {},
   "source": [
    "## Generating Trigrams N-gram Language Models (N=3)"
   ]
  },
  {
   "cell_type": "code",
   "execution_count": 5,
   "id": "92e77d5f-32d9-4480-b7f9-aafd0b628a12",
   "metadata": {},
   "outputs": [],
   "source": [
    "from nltk.util import ngrams\n",
    "from nltk.tokenize import word_tokenize"
   ]
  },
  {
   "cell_type": "code",
   "execution_count": 6,
   "id": "bb091ca8-8b74-4adf-86bf-720d123d75cf",
   "metadata": {},
   "outputs": [],
   "source": [
    "# Sample paragraph\n",
    "paragraph = \"\"\"Artificial intelligence is transforming the world. \n",
    "Machine learning and deep learning are driving innovations in various industries.\"\"\""
   ]
  },
  {
   "cell_type": "code",
   "execution_count": 7,
   "id": "988e0703-fe2c-40e8-be71-8f5e163de61d",
   "metadata": {},
   "outputs": [],
   "source": [
    "# Tokenize the paragraph into words\n",
    "words = word_tokenize(paragraph.lower())  # Convert to lowercase for consistency"
   ]
  },
  {
   "cell_type": "code",
   "execution_count": 8,
   "id": "ff811e89-6ab7-48e3-a7d4-557f3a801c68",
   "metadata": {},
   "outputs": [],
   "source": [
    "# Generate trigrams (N=3)\n",
    "trigrams = list(ngrams(words, 3))"
   ]
  },
  {
   "cell_type": "code",
   "execution_count": 9,
   "id": "87ec0665-d26b-4871-9868-f79164e7a6fc",
   "metadata": {},
   "outputs": [
    {
     "name": "stdout",
     "output_type": "stream",
     "text": [
      "('artificial', 'intelligence', 'is')\n",
      "('intelligence', 'is', 'transforming')\n",
      "('is', 'transforming', 'the')\n",
      "('transforming', 'the', 'world')\n",
      "('the', 'world', '.')\n",
      "('world', '.', 'machine')\n",
      "('.', 'machine', 'learning')\n",
      "('machine', 'learning', 'and')\n",
      "('learning', 'and', 'deep')\n",
      "('and', 'deep', 'learning')\n",
      "('deep', 'learning', 'are')\n",
      "('learning', 'are', 'driving')\n",
      "('are', 'driving', 'innovations')\n",
      "('driving', 'innovations', 'in')\n",
      "('innovations', 'in', 'various')\n",
      "('in', 'various', 'industries')\n",
      "('various', 'industries', '.')\n"
     ]
    }
   ],
   "source": [
    "# Print the trigrams\n",
    "for trigram in trigrams:\n",
    "    print(trigram)"
   ]
  },
  {
   "cell_type": "markdown",
   "id": "11ad1cd4-0fdf-4d37-9408-2e33e96734dc",
   "metadata": {},
   "source": [
    "## Mad Libs Game"
   ]
  },
  {
   "cell_type": "code",
   "execution_count": 10,
   "id": "fd00a1e2-ecd3-4314-85a4-7ec15478c0c6",
   "metadata": {},
   "outputs": [
    {
     "name": "stdout",
     "output_type": "stream",
     "text": [
      "Welcome to the Mad Libs game! Please provide the following words:\n"
     ]
    },
    {
     "name": "stdin",
     "output_type": "stream",
     "text": [
      "Enter an adjective:  dog\n",
      "Enter a noun:  shit\n",
      "Enter a verb:  ttf\n",
      "Enter an adverb:  7\n",
      "Enter another adjective:  99\n",
      "Enter another noun:  ff\n",
      "Enter another adjective:  j\n",
      "Enter another noun:  g\n",
      "Enter another verb:  l\n",
      "Enter another adverb:  h\n",
      "Enter another adjective:  u\n",
      "Enter a place:  mm\n",
      "Enter one more adjective:  o\n"
     ]
    },
    {
     "name": "stdout",
     "output_type": "stream",
     "text": [
      "\n",
      "Here's your Mad Libs story:\n",
      "\n",
      "\n",
      "Once upon a time, there was a dog shit who loved to ttf 7. \n",
      "One day, the shit decided to go on an adventure to find the legendary 99 ff. \n",
      "Along the way, the shit met a j g who offered to help. \n",
      "Together, they l h through the u mm until they finally found the 99 ff. \n",
      "It was a o day!\n",
      "\n"
     ]
    }
   ],
   "source": [
    "# Mad Libs Game in Jupyter Notebook\n",
    "\n",
    "# Step 1: Define the story template\n",
    "story_template = \"\"\"\n",
    "Once upon a time, there was a {adjective} {noun} who loved to {verb} {adverb}. \n",
    "One day, the {noun} decided to go on an adventure to find the legendary {adjective2} {noun2}. \n",
    "Along the way, the {noun} met a {adjective3} {noun3} who offered to help. \n",
    "Together, they {verb2} {adverb2} through the {adjective4} {place} until they finally found the {adjective2} {noun2}. \n",
    "It was a {adjective5} day!\n",
    "\"\"\"\n",
    "\n",
    "# Step 2: Collect all user inputs in one go\n",
    "print(\"Welcome to the Mad Libs game! Please provide the following words:\")\n",
    "\n",
    "# Collect all inputs in a single cell\n",
    "adjective = input(\"Enter an adjective: \")\n",
    "noun = input(\"Enter a noun: \")\n",
    "verb = input(\"Enter a verb: \")\n",
    "adverb = input(\"Enter an adverb: \")\n",
    "adjective2 = input(\"Enter another adjective: \")\n",
    "noun2 = input(\"Enter another noun: \")\n",
    "adjective3 = input(\"Enter another adjective: \")\n",
    "noun3 = input(\"Enter another noun: \")\n",
    "verb2 = input(\"Enter another verb: \")\n",
    "adverb2 = input(\"Enter another adverb: \")\n",
    "adjective4 = input(\"Enter another adjective: \")\n",
    "place = input(\"Enter a place: \")\n",
    "adjective5 = input(\"Enter one more adjective: \")\n",
    "\n",
    "# Step 3: Fill in the story with user input\n",
    "story = story_template.format(\n",
    "    adjective=adjective,\n",
    "    noun=noun,\n",
    "    verb=verb,\n",
    "    adverb=adverb,\n",
    "    adjective2=adjective2,\n",
    "    noun2=noun2,\n",
    "    adjective3=adjective3,\n",
    "    noun3=noun3,\n",
    "    verb2=verb2,\n",
    "    adverb2=adverb2,\n",
    "    adjective4=adjective4,\n",
    "    place=place,\n",
    "    adjective5=adjective5\n",
    ")\n",
    "\n",
    "# Step 4: Display the completed story\n",
    "print(\"\\nHere's your Mad Libs story:\\n\")\n",
    "print(story)"
   ]
  },
  {
   "cell_type": "code",
   "execution_count": null,
   "id": "af612eb7-b79f-470e-9cff-e7f133edc870",
   "metadata": {},
   "outputs": [],
   "source": []
  }
 ],
 "metadata": {
  "kernelspec": {
   "display_name": "Python 3 (ipykernel)",
   "language": "python",
   "name": "python3"
  },
  "language_info": {
   "codemirror_mode": {
    "name": "ipython",
    "version": 3
   },
   "file_extension": ".py",
   "mimetype": "text/x-python",
   "name": "python",
   "nbconvert_exporter": "python",
   "pygments_lexer": "ipython3",
   "version": "3.12.4"
  }
 },
 "nbformat": 4,
 "nbformat_minor": 5
}
